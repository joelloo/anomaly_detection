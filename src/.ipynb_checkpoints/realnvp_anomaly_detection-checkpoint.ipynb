{
 "cells": [
  {
   "cell_type": "markdown",
   "id": "781a1061",
   "metadata": {},
   "source": [
    "# Anomaly detection using RealNVP normalising flows\n",
    "\n",
    "Normalising flows define a bijective mapping between two distributions. We want to detect anomalous situations through images, but determining outliers and estimating probabilities in the complex, multimodal distribution of image space is challenging. We intend to train normalising flows to map the complex distribution in image space to a simpler distribution like a Gaussian distribution, where we can easily determine outliers.\n",
    "\n",
    "While the original work on RealNVP proposes a convolutional variant of the normalising flow that directly accepts images as input, we instead will use a variant of RealNVP that operates on 1-D tensors encoded from the image by a ResNet encoder. This allows us to 1) reduce the dimensionality of the latent space and keep more salient information, and 2) capitalise on the ResNet encoder's powerful mid-level features learned from pre-training on a much more extensive dataset than ours (i.e. ImageNet)."
   ]
  },
  {
   "cell_type": "code",
   "execution_count": 1,
   "id": "48518eee",
   "metadata": {},
   "outputs": [
    {
     "name": "stderr",
     "output_type": "stream",
     "text": [
      "/home/joel/miniconda3/envs/normflow/lib/python3.7/site-packages/tqdm/auto.py:22: TqdmWarning: IProgress not found. Please update jupyter and ipywidgets. See https://ipywidgets.readthedocs.io/en/stable/user_install.html\n",
      "  from .autonotebook import tqdm as notebook_tqdm\n"
     ]
    }
   ],
   "source": [
    "import torch\n",
    "import torch.nn as nn\n",
    "import torch.nn.functional as F\n",
    "from torchvision import datasets, transforms\n",
    "\n",
    "import numpy as np\n",
    "from tqdm import tqdm\n",
    "from matplotlib import pyplot as plt\n",
    "\n",
    "from models.realnvp import Flow, LatentMaskedAffineCoupling, NormalisingFlow, MLP"
   ]
  },
  {
   "cell_type": "markdown",
   "id": "f321d31c",
   "metadata": {},
   "source": [
    "Initialise the ResNet-18 encoder."
   ]
  },
  {
   "cell_type": "code",
   "execution_count": 2,
   "id": "963cb808",
   "metadata": {},
   "outputs": [
    {
     "name": "stdout",
     "output_type": "stream",
     "text": [
      "['cifar10-resnet18']\n"
     ]
    }
   ],
   "source": [
    "from pl_bolts.models.autoencoders import AE\n",
    "ae = AE(input_height=32)\n",
    "print(AE.pretrained_weights_available())\n",
    "ae = ae.from_pretrained('cifar10-resnet18')\n",
    "ae.freeze()\n",
    "ae = ae.to(device)"
   ]
  },
  {
   "cell_type": "code",
   "execution_count": null,
   "id": "8230db23",
   "metadata": {},
   "outputs": [],
   "source": [
    "import torchvision.models as models\n",
    "ae = models.resnet18(pretrained=True)"
   ]
  }
 ],
 "metadata": {
  "kernelspec": {
   "display_name": "Python [conda env:normflow] *",
   "language": "python",
   "name": "conda-env-normflow-py"
  },
  "language_info": {
   "codemirror_mode": {
    "name": "ipython",
    "version": 3
   },
   "file_extension": ".py",
   "mimetype": "text/x-python",
   "name": "python",
   "nbconvert_exporter": "python",
   "pygments_lexer": "ipython3",
   "version": "3.7.11"
  }
 },
 "nbformat": 4,
 "nbformat_minor": 5
}
