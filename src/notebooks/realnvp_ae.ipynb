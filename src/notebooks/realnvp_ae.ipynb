{
 "cells": [
  {
   "cell_type": "markdown",
   "id": "7c238fa5",
   "metadata": {},
   "source": [
    "Testing out a RealNVP normalising flow with a ResNet autoencoder to model the latent space of images as a multivariate normal distribution."
   ]
  },
  {
   "cell_type": "code",
   "execution_count": 1,
   "id": "1442ab38",
   "metadata": {},
   "outputs": [
    {
     "name": "stderr",
     "output_type": "stream",
     "text": [
      "/home/joel/miniconda3/envs/normflow/lib/python3.7/site-packages/tqdm/auto.py:22: TqdmWarning: IProgress not found. Please update jupyter and ipywidgets. See https://ipywidgets.readthedocs.io/en/stable/user_install.html\n",
      "  from .autonotebook import tqdm as notebook_tqdm\n"
     ]
    }
   ],
   "source": [
    "import torch\n",
    "import torch.nn as nn\n",
    "import torch.nn.functional as F\n",
    "from torchvision import datasets, transforms\n",
    "\n",
    "from tqdm import tqdm\n",
    "from matplotlib import pyplot as plt\n",
    "\n",
    "import numpy as np\n",
    "\n",
    "class Flow(nn.Module):\n",
    "    def __init__(self):\n",
    "        super().__init__()\n",
    "\n",
    "    def forward(self, z):\n",
    "        raise NotImplementedError(\"Forward pass not implemented\")\n",
    "    \n",
    "    def inverse(self, z):\n",
    "        raise NotImplementedError(\"Inverse pass not implemented\")"
   ]
  },
  {
   "cell_type": "markdown",
   "id": "5e1aa6dd",
   "metadata": {},
   "source": [
    "Implement a masked affine coupling layer that operates directly on the latent vector produced by ResNet."
   ]
  },
  {
   "cell_type": "code",
   "execution_count": 2,
   "id": "bddc560d",
   "metadata": {},
   "outputs": [],
   "source": [
    "class LatentMaskedAffineCoupling(Flow):\n",
    "    def __init__(self, b, net):\n",
    "        super().__init__()\n",
    "        self.register_buffer('b', b)\n",
    "        self.net = net\n",
    "        self.scaling = nn.Parameter(torch.zeros(1))\n",
    "\n",
    "    def forward(self, z):\n",
    "        z_masked = self.b * z\n",
    "        s, t = self.net(z_masked).chunk(2, dim=1)\n",
    "\n",
    "        s_exp = self.scaling.exp()\n",
    "        s = torch.tanh(s / s_exp) * s_exp\n",
    "\n",
    "        z_out = z_masked + (1 - self.b) * (z * torch.exp(s) + t)\n",
    "        log_det = torch.sum((1 - self.b) * s, dim=list(range(1, self.b.dim())))\n",
    "        return z_out, log_det\n",
    "\n",
    "    def inverse(self, z):\n",
    "        z_masked = self.b * z\n",
    "        s, t = self.net(z_masked).chunk(2, dim=1)\n",
    "        \n",
    "        s_exp = self.scaling.exp()\n",
    "        s = torch.tanh(s / s_exp) * s_exp\n",
    "\n",
    "        z_out = z_masked + (1 - self.b) * (z - t) * torch.exp(-s)\n",
    "        log_det = -torch.sum((1 - self.b) * s, dim=list(range(1, self.b.dim())))\n",
    "        return z_out, log_det\n"
   ]
  },
  {
   "cell_type": "markdown",
   "id": "b661770d",
   "metadata": {},
   "source": [
    "Implement a normalising flow class that wraps around pre-specified flow layers, and allows us to do forward passes (image latent vector -> target distribution, in this case multivariate normal), as well as to sample (sample from target distribution -> image latent vector)."
   ]
  },
  {
   "cell_type": "code",
   "execution_count": 3,
   "id": "6541d8e4",
   "metadata": {},
   "outputs": [],
   "source": [
    "class NormalisingFlow(nn.Module):\n",
    "    def __init__(self, flows, prior, device):\n",
    "        super().__init__()\n",
    "        self.flows = nn.ModuleList(flows)\n",
    "        self.prior = prior # Target distribution to be approximated\n",
    "        self.device = device\n",
    "        \n",
    "    def forward(self, z):\n",
    "        log_det = torch.zeros(z.shape, device=self.device)\n",
    "        for flow in self.flows:\n",
    "            z, local_log_det = flow(z)\n",
    "            log_det += local_log_det\n",
    "        return z, log_det\n",
    "\n",
    "    def sample(self, sample_shape=None):\n",
    "        if sample_shape:\n",
    "            z = self.prior.sample(sample_shape=sample_shape)\n",
    "        else:\n",
    "            z = self.prior.sample() # No need to specify for multivariate normal\n",
    "\n",
    "        z = z.to(self.device)\n",
    "        for flow in reversed(self.flows):\n",
    "            z, _ = flow.inverse(z)\n",
    "        return z\n",
    "    \n",
    "    def get_prior_log_prob(self, z):\n",
    "        return self.prior.log_prob(z)"
   ]
  },
  {
   "cell_type": "markdown",
   "id": "25ad6c32",
   "metadata": {},
   "source": [
    "Set up neural network classes needed for the flow layers"
   ]
  },
  {
   "cell_type": "code",
   "execution_count": 4,
   "id": "e6b474f0",
   "metadata": {},
   "outputs": [],
   "source": [
    "class MLP(nn.Module):\n",
    "    def __init__(self, in_size, hidden_size, num_layers):\n",
    "        super().__init__()\n",
    "        if num_layers == 1:\n",
    "            layers = [nn.Linear(in_size, 2*in_size)]\n",
    "        else:\n",
    "            layers = [nn.Linear(in_size, hidden_size, bias=True), nn.LeakyReLU()]\n",
    "            for i in range(num_layers - 2):\n",
    "                layers += [nn.Linear(hidden_size, hidden_size, bias=True), nn.LeakyReLU()]\n",
    "            layers += [nn.Linear(hidden_size, 2*in_size, bias=True)]\n",
    "        \n",
    "        self.layers = nn.Sequential(*layers)\n",
    "        \n",
    "    def forward(self, x):\n",
    "        return self.layers(x)"
   ]
  },
  {
   "cell_type": "markdown",
   "id": "7abf92ce",
   "metadata": {},
   "source": [
    "Set up the models and the hyperparameters."
   ]
  },
  {
   "cell_type": "code",
   "execution_count": 63,
   "id": "167a5732",
   "metadata": {},
   "outputs": [],
   "source": [
    "n_bottleneck = 256\n",
    "n_flows = 16\n",
    "n_epochs = 10\n",
    "batch_size = 64\n",
    "\n",
    "enable_cuda = True\n",
    "device = torch.device('cuda' if torch.cuda.is_available() and enable_cuda else 'cpu')"
   ]
  },
  {
   "cell_type": "code",
   "execution_count": 6,
   "id": "6f43148a",
   "metadata": {},
   "outputs": [
    {
     "name": "stdout",
     "output_type": "stream",
     "text": [
      "['cifar10-resnet18']\n",
      "['cifar10-resnet18', 'stl10-resnet18']\n"
     ]
    },
    {
     "ename": "KeyError",
     "evalue": "'resnet50-imagenet not present in pretrained weights.'",
     "output_type": "error",
     "traceback": [
      "\u001b[0;31m---------------------------------------------------------------------------\u001b[0m",
      "\u001b[0;31mKeyError\u001b[0m                                  Traceback (most recent call last)",
      "\u001b[0;32m<ipython-input-6-ceff44f8f20d>\u001b[0m in \u001b[0;36m<module>\u001b[0;34m\u001b[0m\n\u001b[1;32m      3\u001b[0m \u001b[0mprint\u001b[0m\u001b[0;34m(\u001b[0m\u001b[0mAE\u001b[0m\u001b[0;34m.\u001b[0m\u001b[0mpretrained_weights_available\u001b[0m\u001b[0;34m(\u001b[0m\u001b[0;34m)\u001b[0m\u001b[0;34m)\u001b[0m\u001b[0;34m\u001b[0m\u001b[0;34m\u001b[0m\u001b[0m\n\u001b[1;32m      4\u001b[0m \u001b[0mprint\u001b[0m\u001b[0;34m(\u001b[0m\u001b[0mVAE\u001b[0m\u001b[0;34m.\u001b[0m\u001b[0mpretrained_weights_available\u001b[0m\u001b[0;34m(\u001b[0m\u001b[0;34m)\u001b[0m\u001b[0;34m)\u001b[0m\u001b[0;34m\u001b[0m\u001b[0;34m\u001b[0m\u001b[0m\n\u001b[0;32m----> 5\u001b[0;31m \u001b[0mae\u001b[0m \u001b[0;34m=\u001b[0m \u001b[0mae\u001b[0m\u001b[0;34m.\u001b[0m\u001b[0mfrom_pretrained\u001b[0m\u001b[0;34m(\u001b[0m\u001b[0;34m'resnet50-imagenet'\u001b[0m\u001b[0;34m)\u001b[0m\u001b[0;34m\u001b[0m\u001b[0;34m\u001b[0m\u001b[0m\n\u001b[0m\u001b[1;32m      6\u001b[0m \u001b[0;31m# ae.freeze()\u001b[0m\u001b[0;34m\u001b[0m\u001b[0;34m\u001b[0m\u001b[0;34m\u001b[0m\u001b[0m\n\u001b[1;32m      7\u001b[0m \u001b[0;31m# ae = ae.to(device)\u001b[0m\u001b[0;34m\u001b[0m\u001b[0;34m\u001b[0m\u001b[0;34m\u001b[0m\u001b[0m\n",
      "\u001b[0;32m~/miniconda3/envs/normflow/lib/python3.7/site-packages/pl_bolts/models/autoencoders/basic_ae/basic_ae_module.py\u001b[0m in \u001b[0;36mfrom_pretrained\u001b[0;34m(self, checkpoint_name)\u001b[0m\n\u001b[1;32m     93\u001b[0m     \u001b[0;32mdef\u001b[0m \u001b[0mfrom_pretrained\u001b[0m\u001b[0;34m(\u001b[0m\u001b[0mself\u001b[0m\u001b[0;34m,\u001b[0m \u001b[0mcheckpoint_name\u001b[0m\u001b[0;34m)\u001b[0m\u001b[0;34m:\u001b[0m\u001b[0;34m\u001b[0m\u001b[0;34m\u001b[0m\u001b[0m\n\u001b[1;32m     94\u001b[0m         \u001b[0;32mif\u001b[0m \u001b[0mcheckpoint_name\u001b[0m \u001b[0;32mnot\u001b[0m \u001b[0;32min\u001b[0m \u001b[0mAE\u001b[0m\u001b[0;34m.\u001b[0m\u001b[0mpretrained_urls\u001b[0m\u001b[0;34m:\u001b[0m\u001b[0;34m\u001b[0m\u001b[0;34m\u001b[0m\u001b[0m\n\u001b[0;32m---> 95\u001b[0;31m             \u001b[0;32mraise\u001b[0m \u001b[0mKeyError\u001b[0m\u001b[0;34m(\u001b[0m\u001b[0mstr\u001b[0m\u001b[0;34m(\u001b[0m\u001b[0mcheckpoint_name\u001b[0m\u001b[0;34m)\u001b[0m \u001b[0;34m+\u001b[0m \u001b[0;34m\" not present in pretrained weights.\"\u001b[0m\u001b[0;34m)\u001b[0m\u001b[0;34m\u001b[0m\u001b[0;34m\u001b[0m\u001b[0m\n\u001b[0m\u001b[1;32m     96\u001b[0m \u001b[0;34m\u001b[0m\u001b[0m\n\u001b[1;32m     97\u001b[0m         \u001b[0;32mreturn\u001b[0m \u001b[0mself\u001b[0m\u001b[0;34m.\u001b[0m\u001b[0mload_from_checkpoint\u001b[0m\u001b[0;34m(\u001b[0m\u001b[0mAE\u001b[0m\u001b[0;34m.\u001b[0m\u001b[0mpretrained_urls\u001b[0m\u001b[0;34m[\u001b[0m\u001b[0mcheckpoint_name\u001b[0m\u001b[0;34m]\u001b[0m\u001b[0;34m,\u001b[0m \u001b[0mstrict\u001b[0m\u001b[0;34m=\u001b[0m\u001b[0;32mFalse\u001b[0m\u001b[0;34m)\u001b[0m\u001b[0;34m\u001b[0m\u001b[0;34m\u001b[0m\u001b[0m\n",
      "\u001b[0;31mKeyError\u001b[0m: 'resnet50-imagenet not present in pretrained weights.'"
     ]
    }
   ],
   "source": [
    "from pl_bolts.models.autoencoders import AE, VAE\n",
    "ae = AE(input_height=32, enc_type='resnet50')\n",
    "print(AE.pretrained_weights_available())\n",
    "print(VAE.pretrained_weights_available())\n",
    "ae = ae.from_pretrained('resnet50-imagenet')\n",
    "# ae.freeze()\n",
    "# ae = ae.to(device)"
   ]
  },
  {
   "cell_type": "code",
   "execution_count": 65,
   "id": "da5a2c51",
   "metadata": {},
   "outputs": [],
   "source": [
    "# Specify the flow layers\n",
    "b = torch.tensor(n_bottleneck // 2 * [0, 1] + n_bottleneck % 2 * [0])\n",
    "flows = []\n",
    "for i in range(n_flows):\n",
    "    st_net = MLP(n_bottleneck, 1024, 3)\n",
    "    if i % 2 == 0:\n",
    "        flows += [LatentMaskedAffineCoupling(b, st_net)]\n",
    "    else:\n",
    "        flows += [LatentMaskedAffineCoupling(1 - b, st_net)]\n",
    "\n",
    "# Specify the prior (target distribution)\n",
    "# prior = torch.distributions.MultivariateNormal(\n",
    "#     torch.zeros(n_bottleneck, device=device),\n",
    "#     torch.eye(n_bottleneck, device=device)\n",
    "#     )\n",
    "prior = torch.distributions.normal.Normal(loc=0.0, scale=1.0)\n",
    "        \n",
    "# Construct the normalising flow\n",
    "nf = NormalisingFlow(flows, prior, device).to(device)"
   ]
  },
  {
   "cell_type": "markdown",
   "id": "995070d6",
   "metadata": {},
   "source": [
    "Load the datasets."
   ]
  },
  {
   "cell_type": "code",
   "execution_count": 8,
   "id": "ef4b6a52",
   "metadata": {},
   "outputs": [
    {
     "ename": "NameError",
     "evalue": "name 'transforms' is not defined",
     "output_type": "error",
     "traceback": [
      "\u001b[0;31m---------------------------------------------------------------------------\u001b[0m",
      "\u001b[0;31mNameError\u001b[0m                                 Traceback (most recent call last)",
      "\u001b[0;32m<ipython-input-8-eb03cf3c539a>\u001b[0m in \u001b[0;36m<module>\u001b[0;34m\u001b[0m\n\u001b[1;32m      1\u001b[0m \u001b[0;31m# Transformations applied on each image => make them a tensor and discretize\u001b[0m\u001b[0;34m\u001b[0m\u001b[0;34m\u001b[0m\u001b[0;34m\u001b[0m\u001b[0m\n\u001b[0;32m----> 2\u001b[0;31m \u001b[0mtransform\u001b[0m \u001b[0;34m=\u001b[0m \u001b[0mtransforms\u001b[0m\u001b[0;34m.\u001b[0m\u001b[0mCompose\u001b[0m\u001b[0;34m(\u001b[0m\u001b[0;34m[\u001b[0m\u001b[0mtransforms\u001b[0m\u001b[0;34m.\u001b[0m\u001b[0mToTensor\u001b[0m\u001b[0;34m(\u001b[0m\u001b[0;34m)\u001b[0m\u001b[0;34m]\u001b[0m\u001b[0;34m)\u001b[0m\u001b[0;34m\u001b[0m\u001b[0;34m\u001b[0m\u001b[0m\n\u001b[0m\u001b[1;32m      3\u001b[0m \u001b[0;34m\u001b[0m\u001b[0m\n\u001b[1;32m      4\u001b[0m \u001b[0;31m# Loading the training dataset. We need to split it into a training and validation part\u001b[0m\u001b[0;34m\u001b[0m\u001b[0;34m\u001b[0m\u001b[0;34m\u001b[0m\u001b[0m\n\u001b[1;32m      5\u001b[0m \u001b[0mtrain_dataset\u001b[0m \u001b[0;34m=\u001b[0m \u001b[0mdatasets\u001b[0m\u001b[0;34m.\u001b[0m\u001b[0mCIFAR10\u001b[0m\u001b[0;34m(\u001b[0m\u001b[0mroot\u001b[0m\u001b[0;34m=\u001b[0m\u001b[0;34m\"../../data\"\u001b[0m\u001b[0;34m,\u001b[0m \u001b[0mtrain\u001b[0m\u001b[0;34m=\u001b[0m\u001b[0;32mTrue\u001b[0m\u001b[0;34m,\u001b[0m \u001b[0mtransform\u001b[0m\u001b[0;34m=\u001b[0m\u001b[0mtransform\u001b[0m\u001b[0;34m,\u001b[0m \u001b[0mdownload\u001b[0m\u001b[0;34m=\u001b[0m\u001b[0;32mTrue\u001b[0m\u001b[0;34m)\u001b[0m\u001b[0;34m\u001b[0m\u001b[0;34m\u001b[0m\u001b[0m\n",
      "\u001b[0;31mNameError\u001b[0m: name 'transforms' is not defined"
     ]
    }
   ],
   "source": [
    "# Transformations applied on each image => make them a tensor and discretize\n",
    "transform = transforms.Compose([transforms.ToTensor()])\n",
    "\n",
    "# Loading the training dataset. We need to split it into a training and validation part\n",
    "train_dataset = datasets.CIFAR10(root=\"../../data\", train=True, transform=transform, download=True)\n",
    "train_set, val_set = torch.utils.data.random_split(train_dataset, [42000, 8000])\n",
    "\n",
    "# Loading the test set\n",
    "test_set = datasets.CIFAR10(root=\"../../data\", train=False, transform=transform, download=True)\n",
    "\n",
    "# Define the data loaders. We currently do not use the validation and test sets.\n",
    "train_loader = torch.utils.data.DataLoader(train_set, batch_size=batch_size, shuffle=False, drop_last=False)\n",
    "val_loader = torch.utils.data.DataLoader(val_set, batch_size=64, shuffle=False, drop_last=False, num_workers=4)\n",
    "test_loader = torch.utils.data.DataLoader(test_set, batch_size=64, shuffle=False, drop_last=False, num_workers=4)\n",
    "\n",
    "print(\"Loaded in data.\")"
   ]
  },
  {
   "cell_type": "markdown",
   "id": "7d6a4d70",
   "metadata": {},
   "source": [
    "Training the normalising flow."
   ]
  },
  {
   "cell_type": "code",
   "execution_count": 67,
   "id": "ce3dd762",
   "metadata": {},
   "outputs": [
    {
     "name": "stderr",
     "output_type": "stream",
     "text": [
      "100%|██████████| 657/657 [00:25<00:00, 26.14it/s]\n"
     ]
    },
    {
     "name": "stdout",
     "output_type": "stream",
     "text": [
      "Train Epoch: 0 [10496/42000 (100%)]\tLoss: -20935.705078\n"
     ]
    },
    {
     "name": "stderr",
     "output_type": "stream",
     "text": [
      "100%|██████████| 657/657 [00:24<00:00, 26.80it/s]\n"
     ]
    },
    {
     "name": "stdout",
     "output_type": "stream",
     "text": [
      "Train Epoch: 1 [10496/42000 (100%)]\tLoss: -21519.406250\n"
     ]
    },
    {
     "name": "stderr",
     "output_type": "stream",
     "text": [
      "100%|██████████| 657/657 [00:25<00:00, 25.29it/s]\n"
     ]
    },
    {
     "name": "stdout",
     "output_type": "stream",
     "text": [
      "Train Epoch: 2 [10496/42000 (100%)]\tLoss: -22077.816406\n"
     ]
    },
    {
     "name": "stderr",
     "output_type": "stream",
     "text": [
      "100%|██████████| 657/657 [00:26<00:00, 25.24it/s]\n"
     ]
    },
    {
     "name": "stdout",
     "output_type": "stream",
     "text": [
      "Train Epoch: 3 [10496/42000 (100%)]\tLoss: -22423.375000\n"
     ]
    },
    {
     "name": "stderr",
     "output_type": "stream",
     "text": [
      "100%|██████████| 657/657 [00:26<00:00, 25.18it/s]\n"
     ]
    },
    {
     "name": "stdout",
     "output_type": "stream",
     "text": [
      "Train Epoch: 4 [10496/42000 (100%)]\tLoss: -22700.769531\n"
     ]
    },
    {
     "name": "stderr",
     "output_type": "stream",
     "text": [
      "100%|██████████| 657/657 [00:25<00:00, 25.90it/s]\n"
     ]
    },
    {
     "name": "stdout",
     "output_type": "stream",
     "text": [
      "Train Epoch: 5 [10496/42000 (100%)]\tLoss: -22848.933594\n"
     ]
    },
    {
     "name": "stderr",
     "output_type": "stream",
     "text": [
      "100%|██████████| 657/657 [00:24<00:00, 26.73it/s]\n"
     ]
    },
    {
     "name": "stdout",
     "output_type": "stream",
     "text": [
      "Train Epoch: 6 [10496/42000 (100%)]\tLoss: -23033.564453\n"
     ]
    },
    {
     "name": "stderr",
     "output_type": "stream",
     "text": [
      "100%|██████████| 657/657 [00:24<00:00, 26.83it/s]\n"
     ]
    },
    {
     "name": "stdout",
     "output_type": "stream",
     "text": [
      "Train Epoch: 7 [10496/42000 (100%)]\tLoss: -23308.318359\n"
     ]
    },
    {
     "name": "stderr",
     "output_type": "stream",
     "text": [
      "100%|██████████| 657/657 [00:24<00:00, 26.83it/s]\n"
     ]
    },
    {
     "name": "stdout",
     "output_type": "stream",
     "text": [
      "Train Epoch: 8 [10496/42000 (100%)]\tLoss: -23441.519531\n"
     ]
    },
    {
     "name": "stderr",
     "output_type": "stream",
     "text": [
      "100%|██████████| 657/657 [00:24<00:00, 26.68it/s]"
     ]
    },
    {
     "name": "stdout",
     "output_type": "stream",
     "text": [
      "Train Epoch: 9 [10496/42000 (100%)]\tLoss: -23752.937500\n"
     ]
    },
    {
     "name": "stderr",
     "output_type": "stream",
     "text": [
      "\n"
     ]
    }
   ],
   "source": [
    "optimizer =  torch.optim.Adam(nf.parameters(), lr=1e-4, weight_decay=1e-4)\n",
    "for epoch in range(n_epochs):\n",
    "    progressbar = tqdm(enumerate(train_loader), total=len(train_loader))\n",
    "    for batch_n, (x, n) in progressbar:\n",
    "        x = x.to(device)\n",
    "        optimizer.zero_grad()\n",
    "        z = ae.encoder(x)\n",
    "        z = ae.fc(z)\n",
    "        z, log_det = nf(z)\n",
    "        log_prob_z = nf.get_prior_log_prob(z)\n",
    "        loss = -log_prob_z.mean() - log_det.mean()\n",
    "        loss.backward()\n",
    "        optimizer.step()\n",
    "        progressbar.update()\n",
    "    progressbar.close()\n",
    "    print('Train Epoch: {} [{}/{} ({:.0f}%)]\\tLoss: {:.6f}'.format(\n",
    "                epoch, batch_n * len(x), len(train_loader.dataset),\n",
    "                       100. * batch_n / len(train_loader),\n",
    "                       loss.item()))\n",
    "    \n",
    "torch.save(nf.state_dict(), \"../../saved_models/realnvp_16l_10p.ckpt\")"
   ]
  },
  {
   "cell_type": "markdown",
   "id": "5bd872e7",
   "metadata": {},
   "source": [
    "Sampling from the trained normalising flow."
   ]
  },
  {
   "cell_type": "code",
   "execution_count": 72,
   "id": "c91b5a6c",
   "metadata": {},
   "outputs": [
    {
     "name": "stderr",
     "output_type": "stream",
     "text": [
      "Clipping input data to the valid range for imshow with RGB data ([0..1] for floats or [0..255] for integers).\n"
     ]
    },
    {
     "data": {
      "image/png": "[encoded data removed]",
      "text/plain": [
       "<Figure size 432x288 with 1 Axes>"
      ]
     },
     "metadata": {
      "needs_background": "light"
     },
     "output_type": "display_data"
    }
   ],
   "source": [
    "samples = nf.sample(sample_shape=[2, 256])\n",
    "recon = ae.decoder(samples)\n",
    "x_np = recon.view((2, 3, 32, 32)).to('cpu').detach().numpy()\n",
    "x0 = x_np[0].swapaxes(0, 2).swapaxes(0, 1)\n",
    "plt.imshow(x0)\n",
    "plt.show()"
   ]
  },
  {
   "cell_type": "markdown",
   "id": "3c4fdcb5",
   "metadata": {},
   "source": [
    "Compare the results with an untrained normalising flow to see the differences."
   ]
  },
  {
   "cell_type": "code",
   "execution_count": 36,
   "id": "30509069",
   "metadata": {},
   "outputs": [],
   "source": [
    "# Specify the flow layers\n",
    "b_clean = torch.tensor(n_bottleneck // 2 * [0, 1] + n_bottleneck % 2 * [0])\n",
    "flows_clean = []\n",
    "for i in range(n_flows):\n",
    "    st_net_clean = MLP(n_bottleneck, 1024, 2)\n",
    "    if i % 2 == 0:\n",
    "        flows_clean += [LatentMaskedAffineCoupling(b_clean, st_net_clean)]\n",
    "    else:\n",
    "        flows_clean += [LatentMaskedAffineCoupling(1 - b_clean, st_net_clean)]\n",
    "\n",
    "prior_clean = torch.distributions.normal.Normal(loc=0.0, scale=1.0)\n",
    "        \n",
    "# Construct the normalising flow\n",
    "nf_clean = NormalisingFlow(flows_clean, prior_clean, device).to(device)"
   ]
  },
  {
   "cell_type": "code",
   "execution_count": 23,
   "id": "59998fbb",
   "metadata": {},
   "outputs": [
    {
     "name": "stderr",
     "output_type": "stream",
     "text": [
      "Clipping input data to the valid range for imshow with RGB data ([0..1] for floats or [0..255] for integers).\n"
     ]
    },
    {
     "data": {
      "image/png": "[encoded data removed]",
      "text/plain": [
       "<Figure size 432x288 with 1 Axes>"
      ]
     },
     "metadata": {
      "needs_background": "light"
     },
     "output_type": "display_data"
    }
   ],
   "source": [
    "samples = nf_clean.sample(sample_shape=[2, 256])\n",
    "recon = ae.decoder(samples)\n",
    "x_np = recon.view((2, 3, 32, 32)).to('cpu').detach().numpy()\n",
    "x0 = x_np[0].swapaxes(0, 2).swapaxes(0, 1)\n",
    "plt.imshow(x0)\n",
    "plt.show()"
   ]
  }
 ],
 "metadata": {
  "kernelspec": {
   "display_name": "Python [conda env:normflow] *",
   "language": "python",
   "name": "conda-env-normflow-py"
  },
  "language_info": {
   "codemirror_mode": {
    "name": "ipython",
    "version": 3
   },
   "file_extension": ".py",
   "mimetype": "text/x-python",
   "name": "python",
   "nbconvert_exporter": "python",
   "pygments_lexer": "ipython3",
   "version": "3.7.11"
  }
 },
 "nbformat": 4,
 "nbformat_minor": 5
}
