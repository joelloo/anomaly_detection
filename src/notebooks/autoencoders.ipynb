{
 "cells": [
  {
   "cell_type": "markdown",
   "id": "7c238fa5",
   "metadata": {},
   "source": [
    "# Anomaly detection with autoencoders\n",
    "\n",
    "Testing out variants of autoencoders for anomaly detection. We achieve this by using the autoencoders to reconstruct images of the scene, and computing the reconstruction error."
   ]
  },
  {
   "cell_type": "code",
   "execution_count": 1,
   "id": "1442ab38",
   "metadata": {},
   "outputs": [
    {
     "name": "stderr",
     "output_type": "stream",
     "text": [
      "/home/joel/miniconda3/envs/normflow/lib/python3.7/site-packages/tqdm/auto.py:22: TqdmWarning: IProgress not found. Please update jupyter and ipywidgets. See https://ipywidgets.readthedocs.io/en/stable/user_install.html\n",
      "  from .autonotebook import tqdm as notebook_tqdm\n"
     ]
    }
   ],
   "source": [
    "import torch\n",
    "import torch.nn as nn\n",
    "import torch.nn.functional as F\n",
    "from torchvision import datasets, transforms\n",
    "\n",
    "from tqdm import tqdm\n",
    "from matplotlib import pyplot as plt\n",
    "\n",
    "import numpy as np\n",
    "import math\n",
    "\n",
    "class Flow(nn.Module):\n",
    "    def __init__(self):\n",
    "        super().__init__()\n",
    "\n",
    "    def forward(self, z):\n",
    "        raise NotImplementedError(\"Forward pass not implemented\")\n",
    "    \n",
    "    def inverse(self, z):\n",
    "        raise NotImplementedError(\"Inverse pass not implemented\")"
   ]
  },
  {
   "cell_type": "markdown",
   "id": "5e1aa6dd",
   "metadata": {},
   "source": [
    "Implement a masked affine coupling layer that operates directly on the latent vector produced by ResNet."
   ]
  },
  {
   "cell_type": "code",
   "execution_count": 2,
   "id": "bddc560d",
   "metadata": {},
   "outputs": [],
   "source": [
    "class LatentMaskedAffineCoupling(Flow):\n",
    "    def __init__(self, b, net):\n",
    "        super().__init__()\n",
    "        self.register_buffer('b', b)\n",
    "        self.net = net\n",
    "        self.scaling = nn.Parameter(torch.zeros(1))\n",
    "\n",
    "    def forward(self, z):\n",
    "        z_masked = self.b * z\n",
    "        s, t = self.net(z_masked).chunk(2, dim=1)\n",
    "\n",
    "        s_exp = self.scaling.exp()\n",
    "        s = torch.tanh(s / s_exp) * s_exp\n",
    "\n",
    "        z_out = z_masked + (1 - self.b) * (z * torch.exp(s) + t)\n",
    "        log_det = torch.sum((1 - self.b) * s, dim=list(range(1, self.b.dim())))\n",
    "        return z_out, log_det\n",
    "\n",
    "    def inverse(self, z):\n",
    "        z_masked = self.b * z\n",
    "        s, t = self.net(z_masked).chunk(2, dim=1)\n",
    "        \n",
    "        s_exp = self.scaling.exp()\n",
    "        s = torch.tanh(s / s_exp) * s_exp\n",
    "\n",
    "        z_out = z_masked + (1 - self.b) * (z - t) * torch.exp(-s)\n",
    "        log_det = -torch.sum((1 - self.b) * s, dim=list(range(1, self.b.dim())))\n",
    "        return z_out, log_det\n"
   ]
  },
  {
   "cell_type": "markdown",
   "id": "b661770d",
   "metadata": {},
   "source": [
    "Implement a normalising flow class that wraps around pre-specified flow layers, and allows us to do forward passes (image latent vector -> target distribution, in this case multivariate normal), as well as to sample (sample from target distribution -> image latent vector)."
   ]
  },
  {
   "cell_type": "code",
   "execution_count": 3,
   "id": "6541d8e4",
   "metadata": {},
   "outputs": [],
   "source": [
    "class NormalisingFlow(nn.Module):\n",
    "    def __init__(self, flows, prior, device):\n",
    "        super().__init__()\n",
    "        self.flows = nn.ModuleList(flows)\n",
    "        self.prior = prior # Target distribution to be approximated\n",
    "        self.device = device\n",
    "        \n",
    "    def forward(self, z):\n",
    "        log_det = torch.zeros(z.shape, device=self.device)\n",
    "        for flow in self.flows:\n",
    "            z, local_log_det = flow(z)\n",
    "            log_det += local_log_det\n",
    "        return z, log_det\n",
    "\n",
    "    def sample(self, sample_shape=None):\n",
    "        if sample_shape:\n",
    "            z = self.prior.sample(sample_shape=sample_shape)\n",
    "        else:\n",
    "            z = self.prior.sample() # No need to specify for multivariate normal\n",
    "\n",
    "        z = z.to(self.device)\n",
    "        for flow in reversed(self.flows):\n",
    "            z, _ = flow.inverse(z)\n",
    "        return z\n",
    "    \n",
    "    def get_prior_log_prob(self, z):\n",
    "        return self.prior.log_prob(z)"
   ]
  },
  {
   "cell_type": "markdown",
   "id": "25ad6c32",
   "metadata": {},
   "source": [
    "Set up neural network classes needed for the flow layers"
   ]
  },
  {
   "cell_type": "code",
   "execution_count": 4,
   "id": "e6b474f0",
   "metadata": {},
   "outputs": [],
   "source": [
    "class MLP(nn.Module):\n",
    "    def __init__(self, in_size, hidden_size, num_layers):\n",
    "        super().__init__()\n",
    "        if num_layers == 1:\n",
    "            layers = [nn.Linear(in_size, 2*in_size)]\n",
    "        else:\n",
    "            layers = [nn.Linear(in_size, hidden_size, bias=True), nn.LeakyReLU()]\n",
    "            for i in range(num_layers - 2):\n",
    "                layers += [nn.Linear(hidden_size, hidden_size, bias=True), nn.LeakyReLU()]\n",
    "            layers += [nn.Linear(hidden_size, 2*in_size, bias=True)]\n",
    "        \n",
    "        self.layers = nn.Sequential(*layers)\n",
    "        \n",
    "    def forward(self, x):\n",
    "        return self.layers(x)"
   ]
  },
  {
   "cell_type": "markdown",
   "id": "b88a225c",
   "metadata": {},
   "source": [
    "Implements a convolutional autoencoder."
   ]
  },
  {
   "cell_type": "code",
   "execution_count": null,
   "id": "3a8c678a",
   "metadata": {},
   "outputs": [],
   "source": []
  },
  {
   "cell_type": "markdown",
   "id": "34d90066",
   "metadata": {},
   "source": [
    "Implements building blocks like encoders and decoders, that can be use as part of a VAE or a VAE + NF."
   ]
  },
  {
   "cell_type": "code",
   "execution_count": 5,
   "id": "61c45ff7",
   "metadata": {},
   "outputs": [],
   "source": [
    "class VarEncoder(nn.Module):\n",
    "    def __init__(self, latent_size=64, kernel_size=5, img_height=32, channels=3):\n",
    "        super().__init__()\n",
    "        \n",
    "        self.conv = nn.Sequential(\n",
    "            nn.Conv2d(channels, 32, kernel_size),\n",
    "            nn.BatchNorm2d(32),\n",
    "            nn.LeakyReLU(),\n",
    "            nn.Conv2d(32, 64, kernel_size),\n",
    "            nn.BatchNorm2d(64),\n",
    "            nn.LeakyReLU(),\n",
    "            nn.Conv2d(64, 128, kernel_size),\n",
    "            nn.BatchNorm2d(128),\n",
    "            nn.LeakyReLU(),\n",
    "            nn.Conv2d(128, 128, kernel_size),\n",
    "            nn.BatchNorm2d(128),\n",
    "            nn.LeakyReLU()\n",
    "        )\n",
    "        \n",
    "        # Calculate the output size of the image tensor after 4 convolution layers\n",
    "        out_h = img_height\n",
    "        out_w = img_height\n",
    "        for i in range(4):\n",
    "            out_h, out_w = self.convOutputShape((out_h, out_w), kernel_size)\n",
    "        \n",
    "        self.flattened_size = out_h * out_w * 128\n",
    "        self.latent_img_height = out_h\n",
    "        \n",
    "        self.fc_mu = nn.Sequential(\n",
    "            nn.Linear(self.flattened_size, latent_size, bias=True)\n",
    "        )\n",
    "        \n",
    "        self.fc_sigma = nn.Sequential(\n",
    "            nn.Linear(self.flattened_size, latent_size, bias=True)\n",
    "        )\n",
    "        \n",
    "    def forward(self, x):\n",
    "        z = self.conv(x).view(x.shape[0], -1)\n",
    "        mu = self.fc_mu(z)\n",
    "        sigma = torch.exp(self.fc_sigma(z)) + 1e-7\n",
    "        return mu, sigma\n",
    "    \n",
    "    def convOutputShape(self, h_w, kernel_size=1, stride=1, pad=0, dilation=1):\n",
    "        if type(kernel_size) is not tuple:\n",
    "            kernel_size = (kernel_size, kernel_size)\n",
    "        h = math.floor( ((h_w[0] + (2 * pad) - ( dilation * (kernel_size[0] - 1) ) - 1 )/ stride) + 1)\n",
    "        w = math.floor( ((h_w[1] + (2 * pad) - ( dilation * (kernel_size[1] - 1) ) - 1 )/ stride) + 1)\n",
    "        return h, w\n",
    "    \n",
    "class VarDecoder(nn.Module):\n",
    "    def __init__(self, flattened_size, latent_img_height, latent_size=64, kernel_size=5, channels=3):\n",
    "        super().__init__()\n",
    "        self.fc = nn.Sequential(\n",
    "            nn.Linear(latent_size, flattened_size)\n",
    "        )\n",
    "        self.conv = nn.Sequential(\n",
    "            nn.ConvTranspose2d(128, 128, kernel_size),\n",
    "            nn.BatchNorm2d(128),\n",
    "            nn.LeakyReLU(),\n",
    "            nn.ConvTranspose2d(128, 64, kernel_size),\n",
    "            nn.BatchNorm2d(64),\n",
    "            nn.LeakyReLU(),\n",
    "            nn.ConvTranspose2d(64, 32, kernel_size),\n",
    "            nn.BatchNorm2d(32),\n",
    "            nn.LeakyReLU(),\n",
    "            nn.ConvTranspose2d(32, channels, kernel_size)\n",
    "        )\n",
    "        self.latent_img_height = latent_img_height\n",
    "        \n",
    "        \n",
    "    def forward(self, x):\n",
    "        z = self.fc(x).view(x.shape[0], 128, self.latent_img_height, self.latent_img_height)\n",
    "        im = self.conv(z)\n",
    "        return im"
   ]
  },
  {
   "cell_type": "markdown",
   "id": "01f17b00",
   "metadata": {},
   "source": [
    "Set up classes that put the previous components together into the form of a VAE, and VAE + NF."
   ]
  },
  {
   "cell_type": "code",
   "execution_count": 6,
   "id": "c3127e4d",
   "metadata": {},
   "outputs": [],
   "source": [
    "class VariationalAutoencoder(nn.Module):\n",
    "    def __init__(self, device, flows = None, latent_size=64, kernel_size=5, img_height=32, channels=3):\n",
    "        super().__init__()\n",
    "        self.encoder = VarEncoder(latent_size, kernel_size, img_height, channels)\n",
    "        self.decoder = VarDecoder(self.encoder.flattened_size, self.encoder.latent_img_height)\n",
    "        self.device = device\n",
    "        self.flows = flows\n",
    "        self.latent_size = latent_size\n",
    "        \n",
    "    def forward(self, x):\n",
    "        mu, sigma = self.encoder(x)\n",
    "        z0 = self.reparameterize(mu, sigma)\n",
    "        \n",
    "        if self.flows is None:\n",
    "            zk = z0\n",
    "            var_loss = -0.5 * torch.sum(1 + torch.log(sigma) - mu.pow(2) - sigma)\n",
    "        else:\n",
    "            log_pi = torch.log(torch.tensor(2 * np.pi))\n",
    "            log_sigma = torch.log(sigma)\n",
    "            \n",
    "            assert(not torch.any(torch.isnan(log_sigma)))\n",
    "            assert(not torch.any(torch.isnan(z0)))\n",
    "            assert(not torch.any(torch.isnan(mu)))\n",
    "            \n",
    "            log_prob_z0 = torch.sum(\n",
    "                -0.5 * log_pi - log_sigma - 0.5 * ((z0 - mu) / sigma) ** 2, \n",
    "                axis=1)\n",
    "            \n",
    "            zk, log_det = self.flows(z0)\n",
    "            log_prob_zk = torch.sum(-0.5 * log_pi - 0.5 * (zk**2), axis=1)\n",
    "            \n",
    "            var_loss = torch.mean(log_prob_z0) - torch.mean(log_prob_zk) - torch.mean(log_det)\n",
    "            \n",
    "        im = self.decoder(zk)\n",
    "        return im, mu, sigma, var_loss\n",
    "    \n",
    "    def reparameterize(self, mu, sigma):\n",
    "        epsilon = torch.randn_like(mu, device=self.device)\n",
    "        z = mu + sigma * epsilon\n",
    "        return z\n",
    "    \n",
    "    def sample(self, batch_size):\n",
    "        # Sample from N(0, 1)\n",
    "        z = torch.randn((batch_size, self.latent_size), device=self.device)\n",
    "        if self.flows is not None:\n",
    "            z, _ = self.flows(z)\n",
    "        im = self.decoder(z)\n",
    "        return im"
   ]
  },
  {
   "cell_type": "markdown",
   "id": "a8469433",
   "metadata": {},
   "source": [
    "## Tests\n",
    "\n",
    "Load the datasets."
   ]
  },
  {
   "cell_type": "code",
   "execution_count": 7,
   "id": "ef4b6a52",
   "metadata": {},
   "outputs": [
    {
     "name": "stdout",
     "output_type": "stream",
     "text": [
      "Files already downloaded and verified\n",
      "Files already downloaded and verified\n",
      "Loaded in data.\n"
     ]
    }
   ],
   "source": [
    "batch_size = 64\n",
    "\n",
    "# Transformations applied on each image => make them a tensor and discretize\n",
    "transform = transforms.Compose([transforms.ToTensor()])\n",
    "\n",
    "# Loading the training dataset. We need to split it into a training and validation part\n",
    "train_dataset = datasets.CIFAR10(root=\"../../nf_tutorial/data\", train=True, transform=transform, download=True)\n",
    "train_set, val_set = torch.utils.data.random_split(train_dataset, [42000, 8000])\n",
    "\n",
    "# Loading the test set\n",
    "test_set = datasets.CIFAR10(root=\"../../nf_tutorial/data\", train=False, transform=transform, download=True)\n",
    "\n",
    "# Define the data loaders. We currently do not use the validation and test sets.\n",
    "train_loader = torch.utils.data.DataLoader(train_set, batch_size=batch_size, shuffle=False, drop_last=False)\n",
    "val_loader = torch.utils.data.DataLoader(val_set, batch_size=64, shuffle=False, drop_last=False, num_workers=4)\n",
    "test_loader = torch.utils.data.DataLoader(test_set, batch_size=64, shuffle=False, drop_last=False, num_workers=4)\n",
    "\n",
    "print(\"Loaded in data.\")"
   ]
  },
  {
   "cell_type": "markdown",
   "id": "9c68ce56",
   "metadata": {},
   "source": [
    "### Convolutional autoencoders"
   ]
  },
  {
   "cell_type": "code",
   "execution_count": null,
   "id": "9f708462",
   "metadata": {},
   "outputs": [],
   "source": []
  },
  {
   "cell_type": "markdown",
   "id": "d8e1c4e0",
   "metadata": {},
   "source": [
    "### Variational autoencoders"
   ]
  },
  {
   "cell_type": "markdown",
   "id": "7abf92ce",
   "metadata": {},
   "source": [
    "Set up the models, hyperparameters and loss function."
   ]
  },
  {
   "cell_type": "code",
   "execution_count": 9,
   "id": "167a5732",
   "metadata": {},
   "outputs": [],
   "source": [
    "n_epochs = 20\n",
    "\n",
    "enable_cuda = True\n",
    "device = torch.device('cuda' if torch.cuda.is_available() and enable_cuda else 'cpu')"
   ]
  },
  {
   "cell_type": "code",
   "execution_count": 10,
   "id": "0b92e36f",
   "metadata": {},
   "outputs": [],
   "source": [
    "def recon_loss(x, y):\n",
    "    return torch.sum((x - y)**2)"
   ]
  },
  {
   "cell_type": "markdown",
   "id": "203336c4",
   "metadata": {},
   "source": [
    "Instantiate a VAE."
   ]
  },
  {
   "cell_type": "code",
   "execution_count": 11,
   "id": "ff6a66e2",
   "metadata": {},
   "outputs": [],
   "source": [
    "vae = VariationalAutoencoder(device).to(device)"
   ]
  },
  {
   "cell_type": "markdown",
   "id": "7d6a4d70",
   "metadata": {},
   "source": [
    "Training the VAE."
   ]
  },
  {
   "cell_type": "code",
   "execution_count": 12,
   "id": "ce3dd762",
   "metadata": {
    "scrolled": false
   },
   "outputs": [
    {
     "name": "stderr",
     "output_type": "stream",
     "text": [
      "100%|██████████| 657/657 [00:21<00:00, 29.92it/s]\n"
     ]
    },
    {
     "name": "stdout",
     "output_type": "stream",
     "text": [
      "Train Epoch: 0 [10496/42000 (100%)]\tLoss: 2854.261230\n"
     ]
    },
    {
     "name": "stderr",
     "output_type": "stream",
     "text": [
      "100%|██████████| 657/657 [00:21<00:00, 30.92it/s]\n"
     ]
    },
    {
     "name": "stdout",
     "output_type": "stream",
     "text": [
      "Train Epoch: 1 [10496/42000 (100%)]\tLoss: 2127.136719\n"
     ]
    },
    {
     "name": "stderr",
     "output_type": "stream",
     "text": [
      "100%|██████████| 657/657 [00:22<00:00, 28.97it/s]\n"
     ]
    },
    {
     "name": "stdout",
     "output_type": "stream",
     "text": [
      "Train Epoch: 2 [10496/42000 (100%)]\tLoss: 1765.260986\n"
     ]
    },
    {
     "name": "stderr",
     "output_type": "stream",
     "text": [
      "100%|██████████| 657/657 [00:22<00:00, 28.95it/s]\n"
     ]
    },
    {
     "name": "stdout",
     "output_type": "stream",
     "text": [
      "Train Epoch: 3 [10496/42000 (100%)]\tLoss: 1855.467163\n"
     ]
    },
    {
     "name": "stderr",
     "output_type": "stream",
     "text": [
      "100%|██████████| 657/657 [00:22<00:00, 28.96it/s]\n"
     ]
    },
    {
     "name": "stdout",
     "output_type": "stream",
     "text": [
      "Train Epoch: 4 [10496/42000 (100%)]\tLoss: 1512.235107\n"
     ]
    },
    {
     "name": "stderr",
     "output_type": "stream",
     "text": [
      "100%|██████████| 657/657 [00:21<00:00, 30.42it/s]\n"
     ]
    },
    {
     "name": "stdout",
     "output_type": "stream",
     "text": [
      "Train Epoch: 5 [10496/42000 (100%)]\tLoss: 1471.182251\n"
     ]
    },
    {
     "name": "stderr",
     "output_type": "stream",
     "text": [
      "100%|██████████| 657/657 [00:20<00:00, 31.33it/s]\n"
     ]
    },
    {
     "name": "stdout",
     "output_type": "stream",
     "text": [
      "Train Epoch: 6 [10496/42000 (100%)]\tLoss: 1377.500244\n"
     ]
    },
    {
     "name": "stderr",
     "output_type": "stream",
     "text": [
      "100%|██████████| 657/657 [00:20<00:00, 31.47it/s]\n"
     ]
    },
    {
     "name": "stdout",
     "output_type": "stream",
     "text": [
      "Train Epoch: 7 [10496/42000 (100%)]\tLoss: 1318.766602\n"
     ]
    },
    {
     "name": "stderr",
     "output_type": "stream",
     "text": [
      "100%|██████████| 657/657 [00:20<00:00, 31.42it/s]\n"
     ]
    },
    {
     "name": "stdout",
     "output_type": "stream",
     "text": [
      "Train Epoch: 8 [10496/42000 (100%)]\tLoss: 1299.241821\n"
     ]
    },
    {
     "name": "stderr",
     "output_type": "stream",
     "text": [
      "100%|██████████| 657/657 [00:22<00:00, 28.93it/s]\n"
     ]
    },
    {
     "name": "stdout",
     "output_type": "stream",
     "text": [
      "Train Epoch: 9 [10496/42000 (100%)]\tLoss: 1214.291382\n"
     ]
    },
    {
     "name": "stderr",
     "output_type": "stream",
     "text": [
      "100%|██████████| 657/657 [00:22<00:00, 28.89it/s]\n"
     ]
    },
    {
     "name": "stdout",
     "output_type": "stream",
     "text": [
      "Train Epoch: 10 [10496/42000 (100%)]\tLoss: 1224.226929\n"
     ]
    },
    {
     "name": "stderr",
     "output_type": "stream",
     "text": [
      "100%|██████████| 657/657 [00:22<00:00, 28.88it/s]\n"
     ]
    },
    {
     "name": "stdout",
     "output_type": "stream",
     "text": [
      "Train Epoch: 11 [10496/42000 (100%)]\tLoss: 1188.414673\n"
     ]
    },
    {
     "name": "stderr",
     "output_type": "stream",
     "text": [
      "100%|██████████| 657/657 [00:22<00:00, 28.84it/s]\n"
     ]
    },
    {
     "name": "stdout",
     "output_type": "stream",
     "text": [
      "Train Epoch: 12 [10496/42000 (100%)]\tLoss: 1186.459717\n"
     ]
    },
    {
     "name": "stderr",
     "output_type": "stream",
     "text": [
      "100%|██████████| 657/657 [00:22<00:00, 28.85it/s]\n"
     ]
    },
    {
     "name": "stdout",
     "output_type": "stream",
     "text": [
      "Train Epoch: 13 [10496/42000 (100%)]\tLoss: 1147.807251\n"
     ]
    },
    {
     "name": "stderr",
     "output_type": "stream",
     "text": [
      "100%|██████████| 657/657 [00:22<00:00, 28.83it/s]\n"
     ]
    },
    {
     "name": "stdout",
     "output_type": "stream",
     "text": [
      "Train Epoch: 14 [10496/42000 (100%)]\tLoss: 1135.616577\n"
     ]
    },
    {
     "name": "stderr",
     "output_type": "stream",
     "text": [
      "100%|██████████| 657/657 [00:22<00:00, 28.84it/s]\n"
     ]
    },
    {
     "name": "stdout",
     "output_type": "stream",
     "text": [
      "Train Epoch: 15 [10496/42000 (100%)]\tLoss: 1142.939941\n"
     ]
    },
    {
     "name": "stderr",
     "output_type": "stream",
     "text": [
      "100%|██████████| 657/657 [00:22<00:00, 28.85it/s]\n"
     ]
    },
    {
     "name": "stdout",
     "output_type": "stream",
     "text": [
      "Train Epoch: 16 [10496/42000 (100%)]\tLoss: 1126.245239\n"
     ]
    },
    {
     "name": "stderr",
     "output_type": "stream",
     "text": [
      "100%|██████████| 657/657 [00:22<00:00, 28.83it/s]\n"
     ]
    },
    {
     "name": "stdout",
     "output_type": "stream",
     "text": [
      "Train Epoch: 17 [10496/42000 (100%)]\tLoss: 1105.225098\n"
     ]
    },
    {
     "name": "stderr",
     "output_type": "stream",
     "text": [
      "100%|██████████| 657/657 [00:22<00:00, 28.80it/s]\n"
     ]
    },
    {
     "name": "stdout",
     "output_type": "stream",
     "text": [
      "Train Epoch: 18 [10496/42000 (100%)]\tLoss: 1101.928711\n"
     ]
    },
    {
     "name": "stderr",
     "output_type": "stream",
     "text": [
      "100%|██████████| 657/657 [00:22<00:00, 28.91it/s]\n"
     ]
    },
    {
     "name": "stdout",
     "output_type": "stream",
     "text": [
      "Train Epoch: 19 [10496/42000 (100%)]\tLoss: 1081.996094\n"
     ]
    }
   ],
   "source": [
    "optimizer =  torch.optim.Adam(vae.parameters(), lr=1e-4, weight_decay=1e-4)\n",
    "for epoch in range(n_epochs):\n",
    "    progressbar = tqdm(enumerate(train_loader), total=len(train_loader))\n",
    "    for batch_n, (x, n) in progressbar:\n",
    "        x = x.to(device)\n",
    "        optimizer.zero_grad()\n",
    "        outputs, mu, sigma, var_loss = vae(x)\n",
    "        #loss = elbo_loss(x.detach(), outputs.detach(), mu.detach(), sigma.detach())\n",
    "        #loss = elbo_loss(x, outputs, mu, sigma)\n",
    "        loss = recon_loss(x, outputs) + var_loss\n",
    "        loss.backward()\n",
    "        optimizer.step()\n",
    "        progressbar.update()\n",
    "    progressbar.close()\n",
    "    print('Train Epoch: {} [{}/{} ({:.0f}%)]\\tLoss: {:.6f}'.format(\n",
    "                epoch, batch_n * len(x), len(train_loader.dataset),\n",
    "                       100. * batch_n / len(train_loader),\n",
    "                       loss.item()))\n",
    "    \n",
    "torch.save(vae.state_dict(), \"../../nf_tutorial/saved_models/vae.ckpt\")"
   ]
  },
  {
   "cell_type": "markdown",
   "id": "5bd872e7",
   "metadata": {},
   "source": [
    "Sampling from the trained normalising flow."
   ]
  },
  {
   "cell_type": "code",
   "execution_count": 13,
   "id": "a09fad80",
   "metadata": {},
   "outputs": [
    {
     "name": "stderr",
     "output_type": "stream",
     "text": [
      "Clipping input data to the valid range for imshow with RGB data ([0..1] for floats or [0..255] for integers).\n"
     ]
    },
    {
     "data": {
      "image/png": "[encoded data removed]",
      "text/plain": [
       "<Figure size 432x288 with 1 Axes>"
      ]
     },
     "metadata": {
      "needs_background": "light"
     },
     "output_type": "display_data"
    }
   ],
   "source": [
    "samples = vae.sample(2)\n",
    "ims = samples.to('cpu').detach().numpy()\n",
    "im0 = ims[0].swapaxes(0, 2).swapaxes(0, 1)\n",
    "plt.imshow(im0)\n",
    "plt.show()"
   ]
  },
  {
   "cell_type": "markdown",
   "id": "9ca5cbd0",
   "metadata": {},
   "source": [
    "Test against a clean VAE that has not been trained."
   ]
  },
  {
   "cell_type": "code",
   "execution_count": 14,
   "id": "c91b5a6c",
   "metadata": {},
   "outputs": [
    {
     "name": "stderr",
     "output_type": "stream",
     "text": [
      "Clipping input data to the valid range for imshow with RGB data ([0..1] for floats or [0..255] for integers).\n"
     ]
    },
    {
     "data": {
      "image/png": "[encoded data removed]",
      "text/plain": [
       "<Figure size 432x288 with 1 Axes>"
      ]
     },
     "metadata": {
      "needs_background": "light"
     },
     "output_type": "display_data"
    }
   ],
   "source": [
    "vae_clean = VariationalAutoencoder(device).to(device)\n",
    "samples = vae_clean.sample(2)\n",
    "ims = samples.to('cpu').detach().numpy()\n",
    "im0 = ims[0].swapaxes(0, 2).swapaxes(0, 1)\n",
    "\n",
    "plt.imshow(im0)\n",
    "plt.show()"
   ]
  },
  {
   "cell_type": "markdown",
   "id": "f7b6ae55",
   "metadata": {},
   "source": [
    "### Variational autoencoders with normalising flows\n",
    "\n",
    "Set up the hyperparameters, and construct the flow."
   ]
  },
  {
   "cell_type": "code",
   "execution_count": 74,
   "id": "504f83a3",
   "metadata": {},
   "outputs": [],
   "source": [
    "n_epochs = 20\n",
    "n_bottleneck = 64\n",
    "n_flows = 8\n",
    "\n",
    "enable_cuda = True\n",
    "device = torch.device('cuda' if torch.cuda.is_available() and enable_cuda else 'cpu')\n",
    "\n",
    "# Specify the flow layers\n",
    "b = torch.tensor(n_bottleneck // 2 * [0, 1] + n_bottleneck % 2 * [0])\n",
    "flows = []\n",
    "for i in range(n_flows):\n",
    "    st_net = MLP(n_bottleneck, 1024, 3)\n",
    "    if i % 2 == 0:\n",
    "        flows += [LatentMaskedAffineCoupling(b, st_net)]\n",
    "    else:\n",
    "        flows += [LatentMaskedAffineCoupling(1 - b, st_net)]\n",
    "\n",
    "# Specify the prior (target distribution)\n",
    "# prior = torch.distributions.MultivariateNormal(\n",
    "#     torch.zeros(n_bottleneck, device=device),\n",
    "#     torch.eye(n_bottleneck, device=device)\n",
    "#     )\n",
    "prior = torch.distributions.normal.Normal(loc=0.0, scale=1.0)\n",
    "        \n",
    "# Construct the normalising flow\n",
    "nf = NormalisingFlow(flows, prior, device).to(device)"
   ]
  },
  {
   "cell_type": "code",
   "execution_count": 75,
   "id": "3f9ff84a",
   "metadata": {},
   "outputs": [],
   "source": [
    "def recon_loss(x, y):\n",
    "    return torch.sum((x - y)**2)"
   ]
  },
  {
   "cell_type": "markdown",
   "id": "42e1609c",
   "metadata": {},
   "source": [
    "Instantiate a VAE with normalising flow."
   ]
  },
  {
   "cell_type": "code",
   "execution_count": 76,
   "id": "9f7a353a",
   "metadata": {},
   "outputs": [],
   "source": [
    "vae_nf = VariationalAutoencoder(device, flows=nf, latent_size=n_bottleneck).to(device)"
   ]
  },
  {
   "cell_type": "markdown",
   "id": "4adc21ba",
   "metadata": {},
   "source": [
    "Train the VAE-NF."
   ]
  },
  {
   "cell_type": "code",
   "execution_count": 78,
   "id": "6ec8afc1",
   "metadata": {},
   "outputs": [
    {
     "name": "stderr",
     "output_type": "stream",
     "text": [
      "100%|██████████| 657/657 [00:28<00:00, 23.43it/s]\n"
     ]
    },
    {
     "name": "stdout",
     "output_type": "stream",
     "text": [
      "Train Epoch: 0 [10496/42000 (100%)]\tLoss: 868.067993\n"
     ]
    },
    {
     "name": "stderr",
     "output_type": "stream",
     "text": [
      "100%|██████████| 657/657 [00:27<00:00, 23.58it/s]\n"
     ]
    },
    {
     "name": "stdout",
     "output_type": "stream",
     "text": [
      "Train Epoch: 1 [10496/42000 (100%)]\tLoss: -21.193848\n"
     ]
    },
    {
     "name": "stderr",
     "output_type": "stream",
     "text": [
      "100%|██████████| 657/657 [00:27<00:00, 23.56it/s]\n"
     ]
    },
    {
     "name": "stdout",
     "output_type": "stream",
     "text": [
      "Train Epoch: 2 [10496/42000 (100%)]\tLoss: -779.310303\n"
     ]
    },
    {
     "name": "stderr",
     "output_type": "stream",
     "text": [
      "100%|██████████| 657/657 [00:28<00:00, 23.43it/s]\n"
     ]
    },
    {
     "name": "stdout",
     "output_type": "stream",
     "text": [
      "Train Epoch: 3 [10496/42000 (100%)]\tLoss: -1062.648193\n"
     ]
    },
    {
     "name": "stderr",
     "output_type": "stream",
     "text": [
      "100%|██████████| 657/657 [00:28<00:00, 23.24it/s]\n"
     ]
    },
    {
     "name": "stdout",
     "output_type": "stream",
     "text": [
      "Train Epoch: 4 [10496/42000 (100%)]\tLoss: -1273.984131\n"
     ]
    },
    {
     "name": "stderr",
     "output_type": "stream",
     "text": [
      "100%|██████████| 657/657 [00:27<00:00, 23.54it/s]\n"
     ]
    },
    {
     "name": "stdout",
     "output_type": "stream",
     "text": [
      "Train Epoch: 5 [10496/42000 (100%)]\tLoss: -1320.980713\n"
     ]
    },
    {
     "name": "stderr",
     "output_type": "stream",
     "text": [
      "100%|██████████| 657/657 [00:27<00:00, 23.54it/s]\n"
     ]
    },
    {
     "name": "stdout",
     "output_type": "stream",
     "text": [
      "Train Epoch: 6 [10496/42000 (100%)]\tLoss: -1558.102295\n"
     ]
    },
    {
     "name": "stderr",
     "output_type": "stream",
     "text": [
      "100%|██████████| 657/657 [00:28<00:00, 23.43it/s]\n"
     ]
    },
    {
     "name": "stdout",
     "output_type": "stream",
     "text": [
      "Train Epoch: 7 [10496/42000 (100%)]\tLoss: -1695.651367\n"
     ]
    },
    {
     "name": "stderr",
     "output_type": "stream",
     "text": [
      "100%|██████████| 657/657 [00:27<00:00, 23.54it/s]\n"
     ]
    },
    {
     "name": "stdout",
     "output_type": "stream",
     "text": [
      "Train Epoch: 8 [10496/42000 (100%)]\tLoss: -1766.254395\n"
     ]
    },
    {
     "name": "stderr",
     "output_type": "stream",
     "text": [
      "100%|██████████| 657/657 [00:27<00:00, 23.53it/s]\n"
     ]
    },
    {
     "name": "stdout",
     "output_type": "stream",
     "text": [
      "Train Epoch: 9 [10496/42000 (100%)]\tLoss: -2030.025146\n"
     ]
    },
    {
     "name": "stderr",
     "output_type": "stream",
     "text": [
      "100%|██████████| 657/657 [00:27<00:00, 23.52it/s]\n"
     ]
    },
    {
     "name": "stdout",
     "output_type": "stream",
     "text": [
      "Train Epoch: 10 [10496/42000 (100%)]\tLoss: -1923.723755\n"
     ]
    },
    {
     "name": "stderr",
     "output_type": "stream",
     "text": [
      "100%|██████████| 657/657 [00:28<00:00, 23.39it/s]\n"
     ]
    },
    {
     "name": "stdout",
     "output_type": "stream",
     "text": [
      "Train Epoch: 11 [10496/42000 (100%)]\tLoss: -2214.815430\n"
     ]
    },
    {
     "name": "stderr",
     "output_type": "stream",
     "text": [
      "100%|██████████| 657/657 [00:27<00:00, 23.66it/s]\n"
     ]
    },
    {
     "name": "stdout",
     "output_type": "stream",
     "text": [
      "Train Epoch: 12 [10496/42000 (100%)]\tLoss: -2304.502441\n"
     ]
    },
    {
     "name": "stderr",
     "output_type": "stream",
     "text": [
      "100%|██████████| 657/657 [00:28<00:00, 23.26it/s]\n"
     ]
    },
    {
     "name": "stdout",
     "output_type": "stream",
     "text": [
      "Train Epoch: 13 [10496/42000 (100%)]\tLoss: -2350.472168\n"
     ]
    },
    {
     "name": "stderr",
     "output_type": "stream",
     "text": [
      "100%|██████████| 657/657 [00:27<00:00, 23.60it/s]\n"
     ]
    },
    {
     "name": "stdout",
     "output_type": "stream",
     "text": [
      "Train Epoch: 14 [10496/42000 (100%)]\tLoss: 1817499.250000\n"
     ]
    },
    {
     "name": "stderr",
     "output_type": "stream",
     "text": [
      "100%|██████████| 657/657 [00:27<00:00, 23.51it/s]\n"
     ]
    },
    {
     "name": "stdout",
     "output_type": "stream",
     "text": [
      "Train Epoch: 15 [10496/42000 (100%)]\tLoss: 7039.498535\n"
     ]
    },
    {
     "name": "stderr",
     "output_type": "stream",
     "text": [
      "100%|██████████| 657/657 [00:28<00:00, 22.72it/s]\n"
     ]
    },
    {
     "name": "stdout",
     "output_type": "stream",
     "text": [
      "Train Epoch: 16 [10496/42000 (100%)]\tLoss: 9265.075195\n"
     ]
    },
    {
     "name": "stderr",
     "output_type": "stream",
     "text": [
      "100%|██████████| 657/657 [00:27<00:00, 23.57it/s]\n"
     ]
    },
    {
     "name": "stdout",
     "output_type": "stream",
     "text": [
      "Train Epoch: 17 [10496/42000 (100%)]\tLoss: 14461.925781\n"
     ]
    },
    {
     "name": "stderr",
     "output_type": "stream",
     "text": [
      "100%|██████████| 657/657 [00:27<00:00, 23.54it/s]\n"
     ]
    },
    {
     "name": "stdout",
     "output_type": "stream",
     "text": [
      "Train Epoch: 18 [10496/42000 (100%)]\tLoss: 8925.414062\n"
     ]
    },
    {
     "name": "stderr",
     "output_type": "stream",
     "text": [
      "100%|██████████| 657/657 [00:27<00:00, 23.57it/s]\n"
     ]
    },
    {
     "name": "stdout",
     "output_type": "stream",
     "text": [
      "Train Epoch: 19 [10496/42000 (100%)]\tLoss: 10051.555664\n"
     ]
    }
   ],
   "source": [
    "optimizer =  torch.optim.Adam(vae_nf.parameters(), lr=1e-4, weight_decay=1e-4)\n",
    "for epoch in range(n_epochs):\n",
    "    progressbar = tqdm(enumerate(train_loader), total=len(train_loader))\n",
    "    for batch_n, (x, n) in progressbar:\n",
    "        x = x.to(device)\n",
    "        optimizer.zero_grad()\n",
    "        outputs, mu, sigma, var_loss = vae_nf(x)\n",
    "        loss = var_loss + recon_loss(x, outputs)\n",
    "        loss.backward()\n",
    "        optimizer.step()\n",
    "        progressbar.update()\n",
    "    progressbar.close()\n",
    "    print('Train Epoch: {} [{}/{} ({:.0f}%)]\\tLoss: {:.6f}'.format(\n",
    "                epoch, batch_n * len(x), len(train_loader.dataset),\n",
    "                       100. * batch_n / len(train_loader),\n",
    "                       loss.item()))\n",
    "    \n",
    "torch.save(vae_nf.state_dict(), \"../../nf_tutorial/saved_models/vae_nf.ckpt\")"
   ]
  },
  {
   "cell_type": "code",
   "execution_count": 87,
   "id": "b1aa3b20",
   "metadata": {},
   "outputs": [
    {
     "name": "stderr",
     "output_type": "stream",
     "text": [
      "Clipping input data to the valid range for imshow with RGB data ([0..1] for floats or [0..255] for integers).\n"
     ]
    },
    {
     "data": {
      "image/png": "[encoded data removed]",
      "text/plain": [
       "<Figure size 432x288 with 1 Axes>"
      ]
     },
     "metadata": {
      "needs_background": "light"
     },
     "output_type": "display_data"
    }
   ],
   "source": [
    "samples = vae_nf.sample(2)\n",
    "ims = samples.to('cpu').detach().numpy()\n",
    "im0 = ims[0].swapaxes(0, 2).swapaxes(0, 1)\n",
    "plt.imshow(im0)\n",
    "plt.show()"
   ]
  },
  {
   "cell_type": "code",
   "execution_count": null,
   "id": "f833d3fa",
   "metadata": {},
   "outputs": [],
   "source": []
  }
 ],
 "metadata": {
  "kernelspec": {
   "display_name": "Python 3",
   "language": "python",
   "name": "python3"
  },
  "language_info": {
   "codemirror_mode": {
    "name": "ipython",
    "version": 3
   },
   "file_extension": ".py",
   "mimetype": "text/x-python",
   "name": "python",
   "nbconvert_exporter": "python",
   "pygments_lexer": "ipython3",
   "version": "3.7.11"
  }
 },
 "nbformat": 4,
 "nbformat_minor": 5
}
